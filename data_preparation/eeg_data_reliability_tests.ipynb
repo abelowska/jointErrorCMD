{
 "cells": [
  {
   "cell_type": "markdown",
   "id": "658a3332-86a3-4145-8119-5323a65e3084",
   "metadata": {},
   "source": [
    "# Calculate internal consistency of EEG signals within final sample"
   ]
  },
  {
   "cell_type": "markdown",
   "id": "3135ed2e-30a2-4b69-a7c8-39545ac74679",
   "metadata": {},
   "source": [
    "Imports"
   ]
  },
  {
   "cell_type": "code",
   "execution_count": 1,
   "id": "00f043f8-be23-4e32-8bdb-fe9afe944221",
   "metadata": {},
   "outputs": [],
   "source": [
    "import numpy as np\n",
    "import os\n",
    "import json\n",
    "import pandas as pd\n",
    "import seaborn as sns\n",
    "import matplotlib.pyplot as plt\n",
    "from scipy.stats import ttest_ind, ttest_rel"
   ]
  },
  {
   "cell_type": "markdown",
   "id": "ceaaebfc-bf92-4af0-a04d-5766f79bc3c0",
   "metadata": {},
   "source": [
    "## Read data"
   ]
  },
  {
   "cell_type": "code",
   "execution_count": 5,
   "id": "af8ffee7-feaf-4b0e-bdab-03421641df31",
   "metadata": {},
   "outputs": [],
   "source": [
    "def read_data(file_name, columns=None):\n",
    "    # Read the data from CSV\n",
    "    data_df = pd.read_csv(file_name)\n",
    "    \n",
    "    # Filter columns based on the provided column names or regex pattern\n",
    "    if columns is None:\n",
    "        filtered_columns = data_df.filter(regex=r'^pre_ne_.*z$')\n",
    "        eeg_columns_name = filtered_columns.columns\n",
    "    else:\n",
    "        filtered_columns = data_df[columns]\n",
    "        eeg_columns_name = columns\n",
    "    \n",
    "    # Join the filtered columns with participant_index and pre_acc\n",
    "    final_data_df = data_df[['participant_index', 'pre_acc']].join(filtered_columns)\n",
    "    \n",
    "    return final_data_df"
   ]
  },
  {
   "cell_type": "code",
   "execution_count": 6,
   "id": "7bd67cf0-dc0c-432b-9933-356b6c9b891c",
   "metadata": {},
   "outputs": [],
   "source": [
    "sonata_data_file = os.path.join('../data/current_dataset', 'sonata_data_standardized.csv')\n",
    "base_data_file = os.path.join('../data/mattes_dataset', 'base_extended_dataset.csv')\n",
    "acc_data_file = os.path.join('../data/mattes_dataset', 'acc_extended_dataset.csv')\n",
    "spe_data_file = os.path.join('../data/mattes_dataset', 'spe_extended_dataset.csv')"
   ]
  },
  {
   "cell_type": "code",
   "execution_count": 7,
   "id": "72c3e1cb-045e-4a44-bf41-f40c0e7b3581",
   "metadata": {},
   "outputs": [],
   "source": [
    "mattes_columns = ['Ne_FCz_amp']\n",
    "sonata_data_df = read_data(sonata_data_file, columns='pre_ne_FCz')\n",
    "base_data_df = read_data(base_data_file, columns=mattes_columns)\n",
    "acc_data_df = read_data(acc_data_file, columns=mattes_columns)\n",
    "spe_data_df = read_data(spe_data_file,  columns=mattes_columns)\n",
    "\n",
    "base_data_df['pre_acc'] = base_data_df['pre_acc'].map(lambda x: 1 if x==0 else -1)\n",
    "acc_data_df['pre_acc'] = acc_data_df['pre_acc'].map(lambda x: 1 if x==0 else -1)\n",
    "spe_data_df['pre_acc'] = spe_data_df['pre_acc'].map(lambda x: 1 if x==0 else -1)\n",
    "\n",
    "datasets = [\n",
    "    sonata_data_df,\n",
    "    base_data_df,\n",
    "    acc_data_df,\n",
    "    spe_data_df  \n",
    "]"
   ]
  },
  {
   "cell_type": "markdown",
   "id": "34323f89-80a0-4ba4-8e4a-dbb6ab31551d",
   "metadata": {},
   "source": [
    "Define dir for the results"
   ]
  },
  {
   "cell_type": "code",
   "execution_count": 12,
   "id": "cc3bb56c-6cd7-4e00-9e42-ceb987c61731",
   "metadata": {},
   "outputs": [],
   "source": [
    "results_path = '../results/consistency_test_results'"
   ]
  },
  {
   "cell_type": "markdown",
   "id": "06d88cca-e850-443a-8883-d1d33ae020fb",
   "metadata": {},
   "source": [
    "## Set condition: ERN (-1) or CRN (1)"
   ]
  },
  {
   "cell_type": "code",
   "execution_count": 8,
   "id": "a7a40b99-75f0-4935-9476-51fe0e83a1ef",
   "metadata": {},
   "outputs": [],
   "source": [
    "acc = 'all'\n",
    "\n",
    "if acc == 1.0:\n",
    "    condition = 'crn'\n",
    "    filtered_datasets = [data_df[data_df['pre_acc'] == acc] for data_df in datasets]\n",
    "elif acc == -1.0:\n",
    "    condition = 'ern'\n",
    "    filtered_datasets = [data_df[data_df['pre_acc'] == acc] for data_df in datasets]\n",
    "elif acc == 'all':\n",
    "    condition = 'all'\n",
    "    filtered_datasets = datasets"
   ]
  },
  {
   "cell_type": "markdown",
   "id": "be6fe811-8ac4-435b-b8b2-fdc1868f7bee",
   "metadata": {},
   "source": [
    "### Calculate within-subject variability"
   ]
  },
  {
   "cell_type": "code",
   "execution_count": 9,
   "id": "d4d42dfa-64d3-45f5-a7b1-4de14a73b380",
   "metadata": {},
   "outputs": [],
   "source": [
    "def calculate_internal_consistency(data_df, column_name):\n",
    "    std_pre_ne = data_df.groupby('participant_index')[column_name].std()\n",
    "    num_trials = data_df.groupby('participant_index')[column_name].count()\n",
    "    ids = data_df.groupby('participant_index')['participant_index']\n",
    "    \n",
    "    between_std = data_df.groupby('participant_index')[column_name].mean().std()\n",
    "    internal_consistency = between_std**2/(between_std**2 + (std_pre_ne**2/num_trials))\n",
    "    \n",
    "    # Create the DataFrame\n",
    "    variability_df = pd.DataFrame({\n",
    "        'id': std_pre_ne.index,\n",
    "        'Personal variance': std_pre_ne,\n",
    "        'Between subjects variance': between_std,\n",
    "        'Internal consistency': internal_consistency,    \n",
    "        'num_trials': num_trials\n",
    "    })\n",
    "    \n",
    "    return variability_df"
   ]
  },
  {
   "cell_type": "code",
   "execution_count": 10,
   "id": "223fd000-d549-4f99-a131-a409671d22f1",
   "metadata": {},
   "outputs": [],
   "source": [
    "column_names = ['pre_ne_FCz', 'Ne_FCz_amp',  'Ne_FCz_amp',  'Ne_FCz_amp']\n",
    "variabilities = [calculate_internal_consistency(data_df, column_name) for data_df, column_name in zip(filtered_datasets, column_names)]"
   ]
  },
  {
   "cell_type": "markdown",
   "id": "c01463de-da4b-404a-8815-03415da6fba4",
   "metadata": {},
   "source": [
    "Summary"
   ]
  },
  {
   "cell_type": "code",
   "execution_count": 11,
   "id": "3443e605-5016-4ba4-8f4b-1a16266251a8",
   "metadata": {},
   "outputs": [
    {
     "data": {
      "text/html": [
       "<div>\n",
       "<style scoped>\n",
       "    .dataframe tbody tr th:only-of-type {\n",
       "        vertical-align: middle;\n",
       "    }\n",
       "\n",
       "    .dataframe tbody tr th {\n",
       "        vertical-align: top;\n",
       "    }\n",
       "\n",
       "    .dataframe thead th {\n",
       "        text-align: right;\n",
       "    }\n",
       "</style>\n",
       "<table border=\"1\" class=\"dataframe\">\n",
       "  <thead>\n",
       "    <tr style=\"text-align: right;\">\n",
       "      <th></th>\n",
       "      <th>id</th>\n",
       "      <th>Personal variance</th>\n",
       "      <th>Between subjects variance</th>\n",
       "      <th>Internal consistency</th>\n",
       "      <th>num_trials</th>\n",
       "    </tr>\n",
       "  </thead>\n",
       "  <tbody>\n",
       "    <tr>\n",
       "      <th>count</th>\n",
       "      <td>222.000000</td>\n",
       "      <td>222.000000</td>\n",
       "      <td>2.220000e+02</td>\n",
       "      <td>222.000000</td>\n",
       "      <td>222.000000</td>\n",
       "    </tr>\n",
       "    <tr>\n",
       "      <th>mean</th>\n",
       "      <td>111.500000</td>\n",
       "      <td>9.763027</td>\n",
       "      <td>4.163804e+00</td>\n",
       "      <td>0.974969</td>\n",
       "      <td>227.112613</td>\n",
       "    </tr>\n",
       "    <tr>\n",
       "      <th>std</th>\n",
       "      <td>64.230055</td>\n",
       "      <td>1.896980</td>\n",
       "      <td>8.901856e-16</td>\n",
       "      <td>0.010981</td>\n",
       "      <td>30.666516</td>\n",
       "    </tr>\n",
       "    <tr>\n",
       "      <th>min</th>\n",
       "      <td>1.000000</td>\n",
       "      <td>5.489951</td>\n",
       "      <td>4.163804e+00</td>\n",
       "      <td>0.928169</td>\n",
       "      <td>147.000000</td>\n",
       "    </tr>\n",
       "    <tr>\n",
       "      <th>25%</th>\n",
       "      <td>56.250000</td>\n",
       "      <td>8.471741</td>\n",
       "      <td>4.163804e+00</td>\n",
       "      <td>0.969749</td>\n",
       "      <td>209.250000</td>\n",
       "    </tr>\n",
       "    <tr>\n",
       "      <th>50%</th>\n",
       "      <td>111.500000</td>\n",
       "      <td>9.490011</td>\n",
       "      <td>4.163804e+00</td>\n",
       "      <td>0.977694</td>\n",
       "      <td>233.000000</td>\n",
       "    </tr>\n",
       "    <tr>\n",
       "      <th>75%</th>\n",
       "      <td>166.750000</td>\n",
       "      <td>10.995725</td>\n",
       "      <td>4.163804e+00</td>\n",
       "      <td>0.982579</td>\n",
       "      <td>249.000000</td>\n",
       "    </tr>\n",
       "    <tr>\n",
       "      <th>max</th>\n",
       "      <td>222.000000</td>\n",
       "      <td>16.381219</td>\n",
       "      <td>4.163804e+00</td>\n",
       "      <td>0.993176</td>\n",
       "      <td>284.000000</td>\n",
       "    </tr>\n",
       "  </tbody>\n",
       "</table>\n",
       "</div>"
      ],
      "text/plain": [
       "               id  Personal variance  Between subjects variance  \\\n",
       "count  222.000000         222.000000               2.220000e+02   \n",
       "mean   111.500000           9.763027               4.163804e+00   \n",
       "std     64.230055           1.896980               8.901856e-16   \n",
       "min      1.000000           5.489951               4.163804e+00   \n",
       "25%     56.250000           8.471741               4.163804e+00   \n",
       "50%    111.500000           9.490011               4.163804e+00   \n",
       "75%    166.750000          10.995725               4.163804e+00   \n",
       "max    222.000000          16.381219               4.163804e+00   \n",
       "\n",
       "       Internal consistency  num_trials  \n",
       "count            222.000000  222.000000  \n",
       "mean               0.974969  227.112613  \n",
       "std                0.010981   30.666516  \n",
       "min                0.928169  147.000000  \n",
       "25%                0.969749  209.250000  \n",
       "50%                0.977694  233.000000  \n",
       "75%                0.982579  249.000000  \n",
       "max                0.993176  284.000000  "
      ]
     },
     "metadata": {},
     "output_type": "display_data"
    },
    {
     "data": {
      "text/html": [
       "<div>\n",
       "<style scoped>\n",
       "    .dataframe tbody tr th:only-of-type {\n",
       "        vertical-align: middle;\n",
       "    }\n",
       "\n",
       "    .dataframe tbody tr th {\n",
       "        vertical-align: top;\n",
       "    }\n",
       "\n",
       "    .dataframe thead th {\n",
       "        text-align: right;\n",
       "    }\n",
       "</style>\n",
       "<table border=\"1\" class=\"dataframe\">\n",
       "  <thead>\n",
       "    <tr style=\"text-align: right;\">\n",
       "      <th></th>\n",
       "      <th>id</th>\n",
       "      <th>Personal variance</th>\n",
       "      <th>Between subjects variance</th>\n",
       "      <th>Internal consistency</th>\n",
       "      <th>num_trials</th>\n",
       "    </tr>\n",
       "  </thead>\n",
       "  <tbody>\n",
       "    <tr>\n",
       "      <th>count</th>\n",
       "      <td>89.000000</td>\n",
       "      <td>89.000000</td>\n",
       "      <td>8.900000e+01</td>\n",
       "      <td>89.000000</td>\n",
       "      <td>89.000000</td>\n",
       "    </tr>\n",
       "    <tr>\n",
       "      <th>mean</th>\n",
       "      <td>50.000000</td>\n",
       "      <td>4.979669</td>\n",
       "      <td>1.074669e+00</td>\n",
       "      <td>0.883490</td>\n",
       "      <td>217.685393</td>\n",
       "    </tr>\n",
       "    <tr>\n",
       "      <th>std</th>\n",
       "      <td>29.622243</td>\n",
       "      <td>1.621286</td>\n",
       "      <td>2.233027e-16</td>\n",
       "      <td>0.124856</td>\n",
       "      <td>69.509090</td>\n",
       "    </tr>\n",
       "    <tr>\n",
       "      <th>min</th>\n",
       "      <td>1.000000</td>\n",
       "      <td>2.006756</td>\n",
       "      <td>1.074669e+00</td>\n",
       "      <td>0.202033</td>\n",
       "      <td>13.000000</td>\n",
       "    </tr>\n",
       "    <tr>\n",
       "      <th>25%</th>\n",
       "      <td>25.000000</td>\n",
       "      <td>3.696130</td>\n",
       "      <td>1.074669e+00</td>\n",
       "      <td>0.861157</td>\n",
       "      <td>187.000000</td>\n",
       "    </tr>\n",
       "    <tr>\n",
       "      <th>50%</th>\n",
       "      <td>48.000000</td>\n",
       "      <td>4.731009</td>\n",
       "      <td>1.074669e+00</td>\n",
       "      <td>0.916722</td>\n",
       "      <td>229.000000</td>\n",
       "    </tr>\n",
       "    <tr>\n",
       "      <th>75%</th>\n",
       "      <td>76.000000</td>\n",
       "      <td>6.099015</td>\n",
       "      <td>1.074669e+00</td>\n",
       "      <td>0.954915</td>\n",
       "      <td>267.000000</td>\n",
       "    </tr>\n",
       "    <tr>\n",
       "      <th>max</th>\n",
       "      <td>101.000000</td>\n",
       "      <td>9.060253</td>\n",
       "      <td>1.074669e+00</td>\n",
       "      <td>0.981401</td>\n",
       "      <td>337.000000</td>\n",
       "    </tr>\n",
       "  </tbody>\n",
       "</table>\n",
       "</div>"
      ],
      "text/plain": [
       "               id  Personal variance  Between subjects variance  \\\n",
       "count   89.000000          89.000000               8.900000e+01   \n",
       "mean    50.000000           4.979669               1.074669e+00   \n",
       "std     29.622243           1.621286               2.233027e-16   \n",
       "min      1.000000           2.006756               1.074669e+00   \n",
       "25%     25.000000           3.696130               1.074669e+00   \n",
       "50%     48.000000           4.731009               1.074669e+00   \n",
       "75%     76.000000           6.099015               1.074669e+00   \n",
       "max    101.000000           9.060253               1.074669e+00   \n",
       "\n",
       "       Internal consistency  num_trials  \n",
       "count             89.000000   89.000000  \n",
       "mean               0.883490  217.685393  \n",
       "std                0.124856   69.509090  \n",
       "min                0.202033   13.000000  \n",
       "25%                0.861157  187.000000  \n",
       "50%                0.916722  229.000000  \n",
       "75%                0.954915  267.000000  \n",
       "max                0.981401  337.000000  "
      ]
     },
     "metadata": {},
     "output_type": "display_data"
    },
    {
     "data": {
      "text/html": [
       "<div>\n",
       "<style scoped>\n",
       "    .dataframe tbody tr th:only-of-type {\n",
       "        vertical-align: middle;\n",
       "    }\n",
       "\n",
       "    .dataframe tbody tr th {\n",
       "        vertical-align: top;\n",
       "    }\n",
       "\n",
       "    .dataframe thead th {\n",
       "        text-align: right;\n",
       "    }\n",
       "</style>\n",
       "<table border=\"1\" class=\"dataframe\">\n",
       "  <thead>\n",
       "    <tr style=\"text-align: right;\">\n",
       "      <th></th>\n",
       "      <th>id</th>\n",
       "      <th>Personal variance</th>\n",
       "      <th>Between subjects variance</th>\n",
       "      <th>Internal consistency</th>\n",
       "      <th>num_trials</th>\n",
       "    </tr>\n",
       "  </thead>\n",
       "  <tbody>\n",
       "    <tr>\n",
       "      <th>count</th>\n",
       "      <td>61.000000</td>\n",
       "      <td>61.000000</td>\n",
       "      <td>6.100000e+01</td>\n",
       "      <td>61.000000</td>\n",
       "      <td>61.000000</td>\n",
       "    </tr>\n",
       "    <tr>\n",
       "      <th>mean</th>\n",
       "      <td>33.032787</td>\n",
       "      <td>8.251010</td>\n",
       "      <td>3.019214e+00</td>\n",
       "      <td>0.972232</td>\n",
       "      <td>287.147541</td>\n",
       "    </tr>\n",
       "    <tr>\n",
       "      <th>std</th>\n",
       "      <td>19.514924</td>\n",
       "      <td>2.272372</td>\n",
       "      <td>8.955493e-16</td>\n",
       "      <td>0.017782</td>\n",
       "      <td>48.919265</td>\n",
       "    </tr>\n",
       "    <tr>\n",
       "      <th>min</th>\n",
       "      <td>1.000000</td>\n",
       "      <td>4.702690</td>\n",
       "      <td>3.019214e+00</td>\n",
       "      <td>0.892597</td>\n",
       "      <td>170.000000</td>\n",
       "    </tr>\n",
       "    <tr>\n",
       "      <th>25%</th>\n",
       "      <td>16.000000</td>\n",
       "      <td>6.697082</td>\n",
       "      <td>3.019214e+00</td>\n",
       "      <td>0.969429</td>\n",
       "      <td>254.000000</td>\n",
       "    </tr>\n",
       "    <tr>\n",
       "      <th>50%</th>\n",
       "      <td>32.000000</td>\n",
       "      <td>7.920730</td>\n",
       "      <td>3.019214e+00</td>\n",
       "      <td>0.976985</td>\n",
       "      <td>296.000000</td>\n",
       "    </tr>\n",
       "    <tr>\n",
       "      <th>75%</th>\n",
       "      <td>50.000000</td>\n",
       "      <td>9.035527</td>\n",
       "      <td>3.019214e+00</td>\n",
       "      <td>0.983500</td>\n",
       "      <td>324.000000</td>\n",
       "    </tr>\n",
       "    <tr>\n",
       "      <th>max</th>\n",
       "      <td>65.000000</td>\n",
       "      <td>18.528806</td>\n",
       "      <td>3.019214e+00</td>\n",
       "      <td>0.990851</td>\n",
       "      <td>364.000000</td>\n",
       "    </tr>\n",
       "  </tbody>\n",
       "</table>\n",
       "</div>"
      ],
      "text/plain": [
       "              id  Personal variance  Between subjects variance  \\\n",
       "count  61.000000          61.000000               6.100000e+01   \n",
       "mean   33.032787           8.251010               3.019214e+00   \n",
       "std    19.514924           2.272372               8.955493e-16   \n",
       "min     1.000000           4.702690               3.019214e+00   \n",
       "25%    16.000000           6.697082               3.019214e+00   \n",
       "50%    32.000000           7.920730               3.019214e+00   \n",
       "75%    50.000000           9.035527               3.019214e+00   \n",
       "max    65.000000          18.528806               3.019214e+00   \n",
       "\n",
       "       Internal consistency  num_trials  \n",
       "count             61.000000   61.000000  \n",
       "mean               0.972232  287.147541  \n",
       "std                0.017782   48.919265  \n",
       "min                0.892597  170.000000  \n",
       "25%                0.969429  254.000000  \n",
       "50%                0.976985  296.000000  \n",
       "75%                0.983500  324.000000  \n",
       "max                0.990851  364.000000  "
      ]
     },
     "metadata": {},
     "output_type": "display_data"
    },
    {
     "data": {
      "text/html": [
       "<div>\n",
       "<style scoped>\n",
       "    .dataframe tbody tr th:only-of-type {\n",
       "        vertical-align: middle;\n",
       "    }\n",
       "\n",
       "    .dataframe tbody tr th {\n",
       "        vertical-align: top;\n",
       "    }\n",
       "\n",
       "    .dataframe thead th {\n",
       "        text-align: right;\n",
       "    }\n",
       "</style>\n",
       "<table border=\"1\" class=\"dataframe\">\n",
       "  <thead>\n",
       "    <tr style=\"text-align: right;\">\n",
       "      <th></th>\n",
       "      <th>id</th>\n",
       "      <th>Personal variance</th>\n",
       "      <th>Between subjects variance</th>\n",
       "      <th>Internal consistency</th>\n",
       "      <th>num_trials</th>\n",
       "    </tr>\n",
       "  </thead>\n",
       "  <tbody>\n",
       "    <tr>\n",
       "      <th>count</th>\n",
       "      <td>61.000000</td>\n",
       "      <td>61.000000</td>\n",
       "      <td>6.100000e+01</td>\n",
       "      <td>61.000000</td>\n",
       "      <td>61.000000</td>\n",
       "    </tr>\n",
       "    <tr>\n",
       "      <th>mean</th>\n",
       "      <td>33.032787</td>\n",
       "      <td>10.873762</td>\n",
       "      <td>2.680296e+00</td>\n",
       "      <td>0.859455</td>\n",
       "      <td>112.475410</td>\n",
       "    </tr>\n",
       "    <tr>\n",
       "      <th>std</th>\n",
       "      <td>19.514924</td>\n",
       "      <td>2.876249</td>\n",
       "      <td>8.955493e-16</td>\n",
       "      <td>0.080327</td>\n",
       "      <td>42.174086</td>\n",
       "    </tr>\n",
       "    <tr>\n",
       "      <th>min</th>\n",
       "      <td>1.000000</td>\n",
       "      <td>6.898429</td>\n",
       "      <td>2.680296e+00</td>\n",
       "      <td>0.542946</td>\n",
       "      <td>59.000000</td>\n",
       "    </tr>\n",
       "    <tr>\n",
       "      <th>25%</th>\n",
       "      <td>16.000000</td>\n",
       "      <td>8.824772</td>\n",
       "      <td>2.680296e+00</td>\n",
       "      <td>0.828189</td>\n",
       "      <td>92.000000</td>\n",
       "    </tr>\n",
       "    <tr>\n",
       "      <th>50%</th>\n",
       "      <td>32.000000</td>\n",
       "      <td>10.131997</td>\n",
       "      <td>2.680296e+00</td>\n",
       "      <td>0.887404</td>\n",
       "      <td>109.000000</td>\n",
       "    </tr>\n",
       "    <tr>\n",
       "      <th>75%</th>\n",
       "      <td>50.000000</td>\n",
       "      <td>12.389757</td>\n",
       "      <td>2.680296e+00</td>\n",
       "      <td>0.908880</td>\n",
       "      <td>121.000000</td>\n",
       "    </tr>\n",
       "    <tr>\n",
       "      <th>max</th>\n",
       "      <td>65.000000</td>\n",
       "      <td>20.427389</td>\n",
       "      <td>2.680296e+00</td>\n",
       "      <td>0.952571</td>\n",
       "      <td>325.000000</td>\n",
       "    </tr>\n",
       "  </tbody>\n",
       "</table>\n",
       "</div>"
      ],
      "text/plain": [
       "              id  Personal variance  Between subjects variance  \\\n",
       "count  61.000000          61.000000               6.100000e+01   \n",
       "mean   33.032787          10.873762               2.680296e+00   \n",
       "std    19.514924           2.876249               8.955493e-16   \n",
       "min     1.000000           6.898429               2.680296e+00   \n",
       "25%    16.000000           8.824772               2.680296e+00   \n",
       "50%    32.000000          10.131997               2.680296e+00   \n",
       "75%    50.000000          12.389757               2.680296e+00   \n",
       "max    65.000000          20.427389               2.680296e+00   \n",
       "\n",
       "       Internal consistency  num_trials  \n",
       "count             61.000000   61.000000  \n",
       "mean               0.859455  112.475410  \n",
       "std                0.080327   42.174086  \n",
       "min                0.542946   59.000000  \n",
       "25%                0.828189   92.000000  \n",
       "50%                0.887404  109.000000  \n",
       "75%                0.908880  121.000000  \n",
       "max                0.952571  325.000000  "
      ]
     },
     "metadata": {},
     "output_type": "display_data"
    }
   ],
   "source": [
    "for dataset_variability in variabilities:\n",
    "    display(dataset_variability.describe())"
   ]
  },
  {
   "cell_type": "markdown",
   "id": "c47edfcb-a5c8-4ea4-a8f3-a7633c06867e",
   "metadata": {},
   "source": [
    "Save results"
   ]
  },
  {
   "cell_type": "code",
   "execution_count": 13,
   "id": "e509e9fb-09c3-445c-a043-d86f732d0613",
   "metadata": {},
   "outputs": [],
   "source": [
    "datasets_names = ['Main', 'Mattes-Base', 'Mattes-ACC', 'Mattes-Speed']\n",
    "\n",
    "for dataset_name, variability_df in zip(datasets_names, variabilities):\n",
    "    variability_df.to_csv(f'{results_path}/{dataset_name}_{condition}_consistency.csv')\n",
    "    variability_df.describe().to_csv(f'{results_path}/{dataset_name}_{condition}_consistency_summary.csv')"
   ]
  },
  {
   "cell_type": "markdown",
   "id": "ff0ddbd4-839e-4482-bc1a-1826e26bbd21",
   "metadata": {},
   "source": [
    "Plot results"
   ]
  },
  {
   "cell_type": "code",
   "execution_count": 14,
   "id": "f8a304f4-e189-41c2-a9b7-5feae9630763",
   "metadata": {},
   "outputs": [],
   "source": [
    "all_datasets_variabilities = pd.DataFrame()\n",
    "datasets_names = ['Main', 'Mattes-Base', 'Mattes-ACC', 'Mattes-Speed']\n",
    "\n",
    "for dataset_name, variability_df in zip(datasets_names, variabilities):\n",
    "    this_df = pd.DataFrame({\n",
    "        'Internal consistency': variability_df['Internal consistency'],\n",
    "        'Dataset': dataset_name\n",
    "    })\n",
    "\n",
    "    all_datasets_variabilities = pd.concat([all_datasets_variabilities, this_df], ignore_index=True)"
   ]
  },
  {
   "cell_type": "code",
   "execution_count": 15,
   "id": "bab9961f-6dc0-411f-8245-6a5eb84b6353",
   "metadata": {},
   "outputs": [
    {
     "name": "stderr",
     "output_type": "stream",
     "text": [
      "/tmp/ipykernel_15949/3050379886.py:20: UserWarning: The palette list has more values (10) than needed (4), which may not be intended.\n",
      "  ax = sns.violinplot(\n"
     ]
    },
    {
     "data": {
      "image/png": "[encoded data removed]",
      "text/plain": [
       "<Figure size 944.882x708.661 with 1 Axes>"
      ]
     },
     "metadata": {},
     "output_type": "display_data"
    }
   ],
   "source": [
    "cm = 1/2.54\n",
    "dpi = 200\n",
    "\n",
    "sns.set_style(\"whitegrid\")\n",
    "\n",
    "plt.rcParams['figure.dpi'] = dpi\n",
    "plt.rcParams['figure.figsize'] = [12*cm,9*cm]\n",
    "plt.rcParams['ytick.labelsize'] = 8\n",
    "plt.rcParams['xtick.labelsize'] = 8\n",
    "plt.rcParams['axes.labelsize'] = 9\n",
    "plt.rcParams[\"axes.edgecolor\"] = \".15\"\n",
    "plt.rcParams[\"axes.linewidth\"]  = 0.5\n",
    "\n",
    "\n",
    "plt.ticklabel_format(style='sci', axis='x', scilimits=(-2,2))\n",
    "plt.tick_params(axis='both', which='major', bottom=True, left = True)\n",
    "\n",
    "palette = sns.color_palette('colorblind')\n",
    "\n",
    "ax = sns.violinplot(\n",
    "    x='Dataset',\n",
    "    y = 'Internal consistency', \n",
    "    data = all_datasets_variabilities,\n",
    "    hue='Dataset',\n",
    "    orient='v',  \n",
    "    inner=\"box\", \n",
    "    cut=2, \n",
    "    density_norm='width', \n",
    "    linewidth=0.6,\n",
    "    palette=palette\n",
    ")\n",
    "\n",
    "plt.legend([],[], frameon=False)\n",
    "\n",
    "ax.spines['bottom'].set_color('black')\n",
    "ax.spines['top'].set_color('black') \n",
    "ax.spines['right'].set_color('black')\n",
    "ax.spines['left'].set_color('black')\n",
    "\n",
    "plt.show()\n",
    "\n",
    "# ax.figure.savefig(f\"{results_path}/{condition}_consistencies.png\",  bbox_inches='tight')"
   ]
  },
  {
   "cell_type": "markdown",
   "id": "bfc4e2aa-3f0a-4c04-b05a-f1f954f7882f",
   "metadata": {},
   "source": [
    "## Test statistical differences between internal consistencies between datasets"
   ]
  },
  {
   "cell_type": "code",
   "execution_count": 264,
   "id": "6d6b1b7c-8deb-4ff4-b958-0c04850f6ab7",
   "metadata": {},
   "outputs": [],
   "source": [
    "concistency_main = all_datasets_variabilities[all_datasets_variabilities['Dataset'] == 'Main']['Internal consistency'].to_numpy()\n",
    "concistency_base = all_datasets_variabilities[all_datasets_variabilities['Dataset'] == 'Mattes-Base']['Internal consistency'].to_numpy()\n",
    "concistency_acc = all_datasets_variabilities[all_datasets_variabilities['Dataset'] == 'Mattes-ACC']['Internal consistency'].to_numpy()\n",
    "concistency_spe = all_datasets_variabilities[all_datasets_variabilities['Dataset'] == 'Mattes-Speed']['Internal consistency'].to_numpy()"
   ]
  },
  {
   "cell_type": "markdown",
   "id": "5a8a64dd-bffd-4879-9168-52a4a5760643",
   "metadata": {},
   "source": [
    "- Main and ACC"
   ]
  },
  {
   "cell_type": "code",
   "execution_count": 265,
   "id": "507dca03-e817-4b96-90f8-52fd688a4d0d",
   "metadata": {},
   "outputs": [
    {
     "data": {
      "text/plain": [
       "TtestResult(statistic=6.074003696134285, pvalue=4.088919959628949e-09, df=278.0)"
      ]
     },
     "execution_count": 265,
     "metadata": {},
     "output_type": "execute_result"
    }
   ],
   "source": [
    "ttest_ind(concistency_main, concistency_acc, nan_policy='omit')"
   ]
  },
  {
   "cell_type": "markdown",
   "id": "d8dd70d3-564f-4fe6-b369-35c0a5a509d2",
   "metadata": {},
   "source": [
    "- Main and Base"
   ]
  },
  {
   "cell_type": "code",
   "execution_count": 266,
   "id": "2e78ae22-49c8-4e13-a8af-844c5047d1f3",
   "metadata": {},
   "outputs": [
    {
     "data": {
      "text/plain": [
       "TtestResult(statistic=13.530310562499102, pvalue=4.678113713176908e-33, df=308.0)"
      ]
     },
     "execution_count": 266,
     "metadata": {},
     "output_type": "execute_result"
    }
   ],
   "source": [
    "ttest_ind(concistency_main, concistency_base, nan_policy='omit')"
   ]
  },
  {
   "cell_type": "markdown",
   "id": "f526b649-3eab-4a22-8685-d423013d484e",
   "metadata": {},
   "source": [
    "- Main and Speed"
   ]
  },
  {
   "cell_type": "code",
   "execution_count": 267,
   "id": "a26510b5-272f-44f9-8437-154fcc233ee7",
   "metadata": {},
   "outputs": [
    {
     "data": {
      "text/plain": [
       "TtestResult(statistic=13.31905011624198, pvalue=1.0464226681303974e-31, df=281.0)"
      ]
     },
     "execution_count": 267,
     "metadata": {},
     "output_type": "execute_result"
    }
   ],
   "source": [
    "ttest_ind(concistency_main, concistency_spe, nan_policy='omit')"
   ]
  },
  {
   "cell_type": "markdown",
   "id": "06477d96-736e-4bd3-9f44-69b470da1fa9",
   "metadata": {},
   "source": [
    "- Base and ACC"
   ]
  },
  {
   "cell_type": "code",
   "execution_count": 268,
   "id": "3c600c1f-bfdf-486b-a73d-64749c9a0052",
   "metadata": {},
   "outputs": [
    {
     "data": {
      "text/plain": [
       "TtestResult(statistic=-4.385211311080971, pvalue=2.2228793319242432e-05, df=144.0)"
      ]
     },
     "execution_count": 268,
     "metadata": {},
     "output_type": "execute_result"
    }
   ],
   "source": [
    "ttest_ind(concistency_base, concistency_acc, nan_policy='omit')"
   ]
  },
  {
   "cell_type": "markdown",
   "id": "d873814f-8e7b-4e05-a004-e88ff8a9a8fb",
   "metadata": {},
   "source": [
    "- Base and Speed"
   ]
  },
  {
   "cell_type": "code",
   "execution_count": 269,
   "id": "6f7630f5-ec37-47c9-9eb2-4bddf7ef8185",
   "metadata": {},
   "outputs": [
    {
     "data": {
      "text/plain": [
       "TtestResult(statistic=-1.623710716778422, pvalue=0.10658001518666152, df=147.0)"
      ]
     },
     "execution_count": 269,
     "metadata": {},
     "output_type": "execute_result"
    }
   ],
   "source": [
    "ttest_ind(concistency_base, concistency_spe, nan_policy='omit')"
   ]
  },
  {
   "cell_type": "markdown",
   "id": "6f274020-4b92-40c6-a48c-8dea6b464767",
   "metadata": {},
   "source": [
    "- ACC and Speed"
   ]
  },
  {
   "cell_type": "code",
   "execution_count": 270,
   "id": "2e2c0534-27bd-4a3d-bc2c-35e15c25e351",
   "metadata": {},
   "outputs": [
    {
     "data": {
      "text/plain": [
       "TtestResult(statistic=3.391537387810811, pvalue=0.000948644051460948, df=117.0)"
      ]
     },
     "execution_count": 270,
     "metadata": {},
     "output_type": "execute_result"
    }
   ],
   "source": [
    "ttest_ind(concistency_acc, concistency_spe, nan_policy='omit')"
   ]
  }
 ],
 "metadata": {
  "kernelspec": {
   "display_name": "cmdstan_py",
   "language": "python",
   "name": "cmdstan_py"
  },
  "language_info": {
   "codemirror_mode": {
    "name": "ipython",
    "version": 3
   },
   "file_extension": ".py",
   "mimetype": "text/x-python",
   "name": "python",
   "nbconvert_exporter": "python",
   "pygments_lexer": "ipython3",
   "version": "3.9.19"
  }
 },
 "nbformat": 4,
 "nbformat_minor": 5
}
