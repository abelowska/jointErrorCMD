{
 "cells": [
  {
   "cell_type": "markdown",
   "id": "cdcc82cafe9363b6",
   "metadata": {
    "collapsed": false,
    "jupyter": {
     "outputs_hidden": false
    }
   },
   "source": [
    "# Mattes et al. (2022) data preparation"
   ]
  },
  {
   "cell_type": "markdown",
   "id": "464b9fda2d5b150a",
   "metadata": {
    "collapsed": false,
    "jupyter": {
     "outputs_hidden": false
    }
   },
   "source": [
    "Imports"
   ]
  },
  {
   "cell_type": "code",
   "execution_count": null,
   "id": "cfc79d4ee68bea47",
   "metadata": {
    "ExecuteTime": {
     "end_time": "2024-05-24T11:16:06.296482Z",
     "start_time": "2024-05-24T11:16:06.290312Z"
    },
    "collapsed": false,
    "jupyter": {
     "outputs_hidden": false
    }
   },
   "outputs": [],
   "source": [
    "import numpy as np\n",
    "import pandas as pd\n",
    "import seaborn as sns\n",
    "import matplotlib.pyplot as plt\n",
    "import json\n",
    "from scipy.stats import ttest_ind"
   ]
  },
  {
   "cell_type": "markdown",
   "id": "2a424a8634cce52d",
   "metadata": {
    "collapsed": false,
    "jupyter": {
     "outputs_hidden": false
    }
   },
   "source": [
    "## Read data from Stahl et al."
   ]
  },
  {
   "cell_type": "code",
   "execution_count": null,
   "id": "2d0de68ecf291355",
   "metadata": {
    "ExecuteTime": {
     "end_time": "2024-05-24T11:22:27.036255Z",
     "start_time": "2024-05-24T11:22:26.862745Z"
    },
    "collapsed": false,
    "jupyter": {
     "outputs_hidden": false
    }
   },
   "outputs": [],
   "source": [
    "data_spe = pd.read_csv('../data/mattes_dataset/spe_dataset.csv')\n",
    "data_spe.head()"
   ]
  },
  {
   "cell_type": "markdown",
   "id": "13c8d4db-ed01-471b-9a15-aecc604cf588",
   "metadata": {},
   "source": [
    "Standardize EEG data and create y for DDM"
   ]
  },
  {
   "cell_type": "code",
   "execution_count": null,
   "id": "24621fd19feb7b65",
   "metadata": {
    "ExecuteTime": {
     "end_time": "2024-05-24T11:22:27.658065Z",
     "start_time": "2024-05-24T11:22:27.622962Z"
    },
    "collapsed": false,
    "jupyter": {
     "outputs_hidden": false
    }
   },
   "outputs": [],
   "source": [
    "def standardize(series):\n",
    "    return series  / series.std()\n",
    "\n",
    "data_spe['pre_Ne_standarized'] = data_spe.groupby('subj_idx')['pre_Ne'].transform(standardize)\n",
    "data_spe['acc'] = [-1 if response == 0 else 1 for response in data_spe['response']]\n",
    "data_spe['pre_response'] = [-1 if type == 'error' else 1 for type in data_spe['type']]\n",
    "data_spe['y'] = data_spe['rt'] * data_spe['acc']"
   ]
  },
  {
   "cell_type": "code",
   "execution_count": null,
   "id": "687e561645d106e7",
   "metadata": {
    "ExecuteTime": {
     "end_time": "2024-05-24T11:22:28.314990Z",
     "start_time": "2024-05-24T11:22:28.297073Z"
    },
    "collapsed": false,
    "jupyter": {
     "outputs_hidden": false
    }
   },
   "outputs": [],
   "source": [
    "data_spe.head()"
   ]
  },
  {
   "cell_type": "markdown",
   "id": "7fc2f33c7add64dc",
   "metadata": {
    "collapsed": false,
    "jupyter": {
     "outputs_hidden": false
    }
   },
   "source": [
    "Prepare json file for Stan"
   ]
  },
  {
   "cell_type": "code",
   "execution_count": null,
   "id": "b9b4e7940c979b34",
   "metadata": {
    "ExecuteTime": {
     "end_time": "2024-05-24T11:22:30.791013Z",
     "start_time": "2024-05-24T11:22:30.766318Z"
    },
    "collapsed": false,
    "jupyter": {
     "outputs_hidden": false
    }
   },
   "outputs": [],
   "source": [
    "y = data_spe['y'].to_list()\n",
    "pre_acc = data_spe['pre_response'].to_list()\n",
    "pre_ne = data_spe['pre_Ne_standarized'].to_list()\n",
    "unique_ids = data_spe['subj_idx'].unique()\n",
    "id_mapping = {original_id: new_id for new_id, original_id in enumerate(unique_ids, start=1)}\n",
    "data_spe['participant_idx'] = data_spe['subj_idx'].map(id_mapping)\n",
    "\n",
    "participant_index = data_spe['participant_idx'].to_list()\n",
    "\n",
    "n_participants = len(np.unique(participant_index))\n",
    "n_conditions = 1\n",
    "condition = list(np.ones((len(participant_index),)))\n",
    "participants_trials_slices = []\n",
    "for index in np.unique(participant_index):\n",
    "    indices = np.where(participant_index == index)[0]\n",
    "    start_index = int(indices[0] + 1)\n",
    "    end_index = int(indices[-1] + 1)\n",
    "    participants_trials_slices.append([start_index, end_index])"
   ]
  },
  {
   "cell_type": "code",
   "execution_count": null,
   "id": "a0630cd42db47842",
   "metadata": {
    "ExecuteTime": {
     "end_time": "2024-05-24T11:22:31.776449Z",
     "start_time": "2024-05-24T11:22:31.757122Z"
    },
    "collapsed": false,
    "jupyter": {
     "outputs_hidden": false
    }
   },
   "outputs": [],
   "source": [
    "data_2d = {\n",
    "    \"N\": len(y),\n",
    "    \"participants_trials_slices\": participants_trials_slices,\n",
    "    \"n_conditions\": n_conditions,\n",
    "    \"n_participants\": n_participants,\n",
    "    \"y\": y,\n",
    "    \"condition\": condition,\n",
    "    'pre_ne': pre_ne,\n",
    "    'pre_acc': pre_acc,\n",
    "    \"participant\": participant_index\n",
    "}"
   ]
  },
  {
   "cell_type": "markdown",
   "id": "945d18a20e3a176f",
   "metadata": {
    "collapsed": false,
    "jupyter": {
     "outputs_hidden": false
    }
   },
   "source": [
    "Save data to json"
   ]
  },
  {
   "cell_type": "code",
   "execution_count": null,
   "id": "85720061cf668229",
   "metadata": {
    "ExecuteTime": {
     "end_time": "2024-05-24T11:22:35.425864Z",
     "start_time": "2024-05-24T11:22:35.239451Z"
    },
    "collapsed": false,
    "jupyter": {
     "outputs_hidden": false
    }
   },
   "outputs": [],
   "source": [
    "with open(\"../data/mattes_dataset/stahl_spe_data_standardized.json\", \"w\") as outfile: \n",
    "    json.dump(data_2d, outfile)"
   ]
  },
  {
   "cell_type": "markdown",
   "id": "1181a70fe0bd4ad7",
   "metadata": {
    "collapsed": false,
    "jupyter": {
     "outputs_hidden": false
    }
   },
   "source": [
    "## Analyse data"
   ]
  },
  {
   "cell_type": "markdown",
   "id": "c4372c09690f0366",
   "metadata": {
    "collapsed": false,
    "jupyter": {
     "outputs_hidden": false
    }
   },
   "source": [
    "### 1. Post-error adaptation in RTs"
   ]
  },
  {
   "cell_type": "markdown",
   "id": "43b4aa2d-f030-46ae-af60-f60809c7f1bc",
   "metadata": {},
   "source": [
    "Group level"
   ]
  },
  {
   "cell_type": "code",
   "execution_count": null,
   "id": "c115f2707c7a7581",
   "metadata": {
    "ExecuteTime": {
     "end_time": "2024-04-22T15:30:37.262725Z",
     "start_time": "2024-04-22T15:30:36.914661Z"
    },
    "collapsed": false,
    "jupyter": {
     "outputs_hidden": false
    }
   },
   "outputs": [],
   "source": [
    "sns.histplot(\n",
    "    data_spe,\n",
    "    x='rt',\n",
    "    hue='pre_response',\n",
    ")"
   ]
  },
  {
   "cell_type": "markdown",
   "id": "f0f9d2cf-bbe7-4729-b9e3-5c535457eeb7",
   "metadata": {},
   "source": [
    "Participant-level"
   ]
  },
  {
   "cell_type": "code",
   "execution_count": null,
   "id": "96fa335fcb52e7c8",
   "metadata": {
    "ExecuteTime": {
     "end_time": "2024-04-22T15:31:14.183418Z",
     "start_time": "2024-04-22T15:31:05.928028Z"
    },
    "collapsed": false,
    "jupyter": {
     "outputs_hidden": false
    }
   },
   "outputs": [],
   "source": [
    "g = sns.FacetGrid(\n",
    "    data_spe.sort_values(['subj_idx']),\n",
    "    col=\"subj_idx\",\n",
    "    col_wrap=3,\n",
    "    sharex=False,\n",
    "    sharey=False,\n",
    "    aspect=2,\n",
    ")\n",
    "\n",
    "g.map_dataframe(\n",
    "    sns.histplot,\n",
    "    x=\"rt\",\n",
    "    hue='pre_response',\n",
    "    kde=True,\n",
    "    palette='colorblind'\n",
    ")"
   ]
  },
  {
   "cell_type": "code",
   "execution_count": null,
   "id": "19fe80b9ef455459",
   "metadata": {
    "ExecuteTime": {
     "end_time": "2024-04-22T15:30:38.776673Z",
     "start_time": "2024-04-22T15:30:38.766471Z"
    },
    "collapsed": false,
    "jupyter": {
     "outputs_hidden": false
    }
   },
   "outputs": [],
   "source": [
    "print(f\"Mean post error RT: {np.mean(data_spe[data_spe['pre_response'] == -1]['rt'])}\")\n",
    "print(f\"Mean post correct RT: {np.mean(data_spe[data_spe['pre_response'] == 1]['rt'])}\")\n",
    "\n",
    "print(f\"post error vs post correct : {ttest_ind(data_spe[data_spe['pre_response'] == -1]['rt'], data_spe[data_spe['pre_response'] == 1]['rt'])}\")"
   ]
  },
  {
   "cell_type": "markdown",
   "id": "c2da313e95fc523a",
   "metadata": {
    "collapsed": false,
    "jupyter": {
     "outputs_hidden": false
    }
   },
   "source": [
    "#### Test post-response adaptation and links with pre-trial accuracy and brain signal"
   ]
  },
  {
   "cell_type": "code",
   "execution_count": null,
   "id": "9adc1ba9e11c2d0c",
   "metadata": {
    "ExecuteTime": {
     "end_time": "2024-04-22T14:07:58.186901Z",
     "start_time": "2024-04-22T14:07:58.006731Z"
    },
    "collapsed": false,
    "jupyter": {
     "outputs_hidden": false
    }
   },
   "outputs": [],
   "source": [
    "import statsmodels.formula.api as smf\n",
    "\n",
    "mod = smf.ols(formula='rt ~ pre_Ne_standarized*pre_response', data=data_spe)\n",
    "res = mod.fit()\n",
    "\n",
    "print(res.summary())"
   ]
  }
 ],
 "metadata": {
  "kernelspec": {
   "display_name": "Python 3 (ipykernel)",
   "language": "python",
   "name": "python3"
  },
  "language_info": {
   "codemirror_mode": {
    "name": "ipython",
    "version": 3
   },
   "file_extension": ".py",
   "mimetype": "text/x-python",
   "name": "python",
   "nbconvert_exporter": "python",
   "pygments_lexer": "ipython3",
   "version": "3.10.12"
  }
 },
 "nbformat": 4,
 "nbformat_minor": 5
}
