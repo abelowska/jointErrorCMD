{
 "cells": [
  {
   "cell_type": "markdown",
   "id": "5dae3fb2-92e9-4906-a206-f991c6525026",
   "metadata": {},
   "source": [
    "# PRAM linear models informed with EEG and pre-trial accuracy"
   ]
  },
  {
   "cell_type": "markdown",
   "id": "3876714c-134c-498c-9f6e-3c97854b6299",
   "metadata": {},
   "source": [
    "Imports"
   ]
  },
  {
   "cell_type": "code",
   "execution_count": null,
   "id": "9cd0f725-7cfb-4f24-9c14-c81701ce5a69",
   "metadata": {},
   "outputs": [],
   "source": [
    "# import cmdstanpy\n",
    "# cmdstanpy.install_cmdstan()"
   ]
  },
  {
   "cell_type": "code",
   "execution_count": null,
   "id": "52b9bb4b-ac5f-4f3d-852d-3df5a5681907",
   "metadata": {},
   "outputs": [],
   "source": [
    "from cmdstanpy import CmdStanModel\n",
    "import os\n",
    "import numpy as np\n",
    "import pandas as pd\n",
    "from datetime import datetime\n",
    "import pickle\n",
    "import json\n",
    "import time\n",
    "from contextlib import redirect_stdout\n",
    "import seaborn as sns"
   ]
  },
  {
   "cell_type": "markdown",
   "id": "90ca38ec-d3d7-4982-9bf4-b16806718cde",
   "metadata": {},
   "source": [
    "## Define the model"
   ]
  },
  {
   "cell_type": "code",
   "execution_count": null,
   "id": "930d7fea-2bc1-426b-92fa-bae25469fa65",
   "metadata": {},
   "outputs": [],
   "source": [
    "name = 'rt_regression' \n",
    "model_name = f'{name}_model.stan'\n",
    "\n",
    "print(f'Processing model: {model_name}')"
   ]
  },
  {
   "cell_type": "markdown",
   "id": "d77ef4de-40d6-4d57-b34d-79cb6d8b210b",
   "metadata": {},
   "source": [
    "## Compile the model"
   ]
  },
  {
   "cell_type": "code",
   "execution_count": null,
   "id": "21643adc-d82e-4de2-89da-0cdd568fb3df",
   "metadata": {},
   "outputs": [],
   "source": [
    "stan_file = os.path.join('../models/ncognitive_models/TBB_models/', model_name)\n",
    "rt_model = CmdStanModel(\n",
    "    stan_file=stan_file, \n",
    "    cpp_options={'STAN_THREADS': True}, \n",
    "    force_compile=True\n",
    ")"
   ]
  },
  {
   "cell_type": "code",
   "execution_count": null,
   "id": "101643a8-9ae5-4ea9-ab20-d114ebec677d",
   "metadata": {},
   "outputs": [],
   "source": [
    "rt_model.exe_info()"
   ]
  },
  {
   "cell_type": "markdown",
   "id": "81f5dea9-4981-4ff4-86fa-747834876140",
   "metadata": {},
   "source": [
    "## Define data file"
   ]
  },
  {
   "cell_type": "code",
   "execution_count": null,
   "id": "3fee657b-0989-42e8-bed5-85d0dc6ebd0f",
   "metadata": {},
   "outputs": [],
   "source": [
    "data_file = os.path.join('../data/current_dataset', 'sonata_data_standardized_rt.json')"
   ]
  },
  {
   "cell_type": "markdown",
   "id": "1e308e05-2258-45a9-8896-f903dfcec753",
   "metadata": {
    "collapsed": false,
    "jupyter": {
     "outputs_hidden": false
    }
   },
   "source": [
    "### Read the data"
   ]
  },
  {
   "cell_type": "code",
   "execution_count": null,
   "id": "d211909b-4cce-4b45-9177-c720e453c9d1",
   "metadata": {},
   "outputs": [],
   "source": [
    "with open(data_file, 'r') as file:\n",
    "    data = json.load(file)"
   ]
  },
  {
   "cell_type": "code",
   "execution_count": null,
   "id": "21546990-80f4-47ea-bd64-fc231e84fd46",
   "metadata": {},
   "outputs": [],
   "source": [
    "data_df = pd.DataFrame(\n",
    "    {\n",
    "        'participant_index': data['participant'],\n",
    "         'rt': abs(np.array(data['rt']))\n",
    "    }\n",
    ")"
   ]
  },
  {
   "cell_type": "code",
   "execution_count": null,
   "id": "f1ea823b-4a0f-402d-beb9-b8caeb8c20e6",
   "metadata": {},
   "outputs": [],
   "source": [
    "data_df"
   ]
  },
  {
   "cell_type": "code",
   "execution_count": null,
   "id": "d1c04b47-530c-4839-8d4e-558154fa3fe5",
   "metadata": {},
   "outputs": [],
   "source": [
    "with pd.option_context('display.max_rows', None,):\n",
    "    display(data_df.groupby('participant_index').describe())"
   ]
  },
  {
   "cell_type": "markdown",
   "id": "e5c9e878-e081-450d-8da8-ca2c7c49a70c",
   "metadata": {},
   "source": [
    "## Fit the model"
   ]
  },
  {
   "cell_type": "markdown",
   "id": "74811420-b760-4bc6-9b23-54e901b81fbe",
   "metadata": {},
   "source": [
    "Fit parameters"
   ]
  },
  {
   "cell_type": "code",
   "execution_count": null,
   "id": "0aa60473-3fc9-40ad-82dc-c6c191f8ea6b",
   "metadata": {},
   "outputs": [],
   "source": [
    "num_chains = 3\n",
    "warmup = 5000\n",
    "num_samples = 10000\n",
    "thin=5\n",
    "adapt_delta=0.99\n",
    "random_state = 42"
   ]
  },
  {
   "cell_type": "markdown",
   "id": "378ba251-ef78-4577-bef0-157b90b94354",
   "metadata": {},
   "source": [
    "Define initial values"
   ]
  },
  {
   "cell_type": "markdown",
   "id": "7cfe94d2-03c8-4b07-9ac9-e1681a9944ba",
   "metadata": {},
   "source": [
    "Perform fit"
   ]
  },
  {
   "cell_type": "code",
   "execution_count": null,
   "id": "3820bc26-af8a-4233-878b-4d76c635a904",
   "metadata": {},
   "outputs": [],
   "source": [
    "with open('jupyter_logs.txt', 'a') as f:\n",
    "    with redirect_stdout(f):\n",
    "        start = time.time()\n",
    "        fit = rt_model.sample(\n",
    "            data=data_file,\n",
    "            chains=num_chains, \n",
    "            seed=random_state,\n",
    "            thin=thin,\n",
    "            adapt_delta=adapt_delta,\n",
    "            # inits=initials, \n",
    "            iter_warmup=warmup, \n",
    "            iter_sampling=num_samples,\n",
    "            parallel_chains=num_chains,\n",
    "            threads_per_chain= 12,\n",
    "            max_treedepth=10,\n",
    "            show_progress=True,\n",
    "            show_console=True,\n",
    "            output_dir=f'../../plgrid_results/pram_results/sonata/sonata_cond_{name}/'\n",
    "        )\n",
    "        end = time.time()\n",
    "\n",
    "print(f'Fitting took: {end - start}')"
   ]
  },
  {
   "cell_type": "code",
   "execution_count": null,
   "id": "1ea2437c-263b-472c-baa8-e51f94ce7192",
   "metadata": {},
   "outputs": [],
   "source": [
    "print(fit.diagnose())"
   ]
  },
  {
   "cell_type": "code",
   "execution_count": null,
   "id": "5ca97f8b-acf5-4bf0-8898-fc6bc0cddde4",
   "metadata": {},
   "outputs": [],
   "source": [
    "fit_df = fit.draws_pd()\n",
    "\n",
    "sns.lineplot(\n",
    "    data=fit_df,\n",
    "    x = 'iter__',\n",
    "    y = 'pre_acc_prop',\n",
    "    hue='chain__'\n",
    ")"
   ]
  }
 ],
 "metadata": {
  "kernelspec": {
   "display_name": "cmdstan_py",
   "language": "python",
   "name": "cmdstan_py"
  },
  "language_info": {
   "codemirror_mode": {
    "name": "ipython",
    "version": 3
   },
   "file_extension": ".py",
   "mimetype": "text/x-python",
   "name": "python",
   "nbconvert_exporter": "python",
   "pygments_lexer": "ipython3",
   "version": "3.9.19"
  }
 },
 "nbformat": 4,
 "nbformat_minor": 5
}
