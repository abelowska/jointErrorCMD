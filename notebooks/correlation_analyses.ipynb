{
 "cells": [
  {
   "cell_type": "markdown",
   "id": "5dae3fb2-92e9-4906-a206-f991c6525026",
   "metadata": {},
   "source": [
    "# HDDM models results summary"
   ]
  },
  {
   "cell_type": "markdown",
   "id": "3876714c-134c-498c-9f6e-3c97854b6299",
   "metadata": {},
   "source": [
    "Imports"
   ]
  },
  {
   "cell_type": "code",
   "execution_count": 90,
   "id": "52b9bb4b-ac5f-4f3d-852d-3df5a5681907",
   "metadata": {},
   "outputs": [],
   "source": [
    "from cmdstanpy import CmdStanModel\n",
    "import os\n",
    "import numpy as np\n",
    "import pandas as pd\n",
    "from datetime import datetime\n",
    "import pickle\n",
    "import cmdstanpy\n",
    "from scipy import stats\n",
    "import seaborn as sns\n",
    "import matplotlib.pyplot as plt"
   ]
  },
  {
   "cell_type": "code",
   "execution_count": null,
   "id": "4ea2345b-dee3-4297-a96e-de5d8ad67ac5",
   "metadata": {},
   "outputs": [],
   "source": [
    "# read beh, num trials in analysis, questio and make a correlation with delta_ne, alpha_ne"
   ]
  },
  {
   "cell_type": "code",
   "execution_count": null,
   "id": "37a5827d-5a92-4862-937a-12a819ad1985",
   "metadata": {},
   "outputs": [],
   "source": []
  },
  {
   "cell_type": "code",
   "execution_count": null,
   "id": "99015ac2-bb0f-4177-acd6-c15a7045f9de",
   "metadata": {},
   "outputs": [],
   "source": []
  },
  {
   "cell_type": "code",
   "execution_count": null,
   "id": "3bca21ed-239a-429f-8c86-06688d7d0416",
   "metadata": {},
   "outputs": [],
   "source": []
  },
  {
   "cell_type": "code",
   "execution_count": null,
   "id": "6697e00c-0414-41a9-a180-ec9fb1a107db",
   "metadata": {},
   "outputs": [],
   "source": []
  },
  {
   "cell_type": "markdown",
   "id": "a5c2620b-039b-4758-9949-d15e922d2927",
   "metadata": {},
   "source": [
    "## Read the MCMC fit object from csv files"
   ]
  },
  {
   "cell_type": "code",
   "execution_count": 956,
   "id": "0b376486-488d-4ac3-80b8-0121eefa5542",
   "metadata": {},
   "outputs": [],
   "source": [
    "model = 'drift_boundary_tbb'\n",
    "# path = '../cmd_results/stahl/acc/'\n",
    "path = '../plgrid_results/cond_models/sonata/'"
   ]
  },
  {
   "cell_type": "code",
   "execution_count": 957,
   "id": "e8848b1f-2ff4-4a3c-b47c-3b94f5624916",
   "metadata": {},
   "outputs": [
    {
     "name": "stderr",
     "output_type": "stream",
     "text": [
      "11:30:31 - cmdstanpy - WARNING - Some chains may have failed to converge.\n",
      "\tChain 1 had 16 divergent transitions (0.2%)\n",
      "\tChain 1 had 712 iterations at max treedepth (7.1%)\n",
      "\tChain 2 had 136 iterations at max treedepth (1.4%)\n",
      "\tChain 3 had 73 divergent transitions (0.7%)\n",
      "\tChain 3 had 116 iterations at max treedepth (1.2%)\n",
      "\tChain 4 had 4 divergent transitions (0.0%)\n",
      "\tUse the \"diagnose()\" method on the CmdStanMCMC object to see further information.\n"
     ]
    }
   ],
   "source": [
    "fit = cmdstanpy.from_csv(path=f'{path}/{model}/')"
   ]
  },
  {
   "cell_type": "code",
   "execution_count": 958,
   "id": "c2e9b09b-c254-49b5-a3a2-fa5592e1f466",
   "metadata": {
    "scrolled": true
   },
   "outputs": [
    {
     "name": "stdout",
     "output_type": "stream",
     "text": [
      "Processing csv files: ../plgrid_results/cond_models/sonata//drift_boundary_tbb/wiener_drift_boundary_tbb_model-20240530031844.csv, ../plgrid_results/cond_models/sonata//drift_boundary_tbb/wiener_drift_boundary_tbb_model-20240528203615.csv, ../plgrid_results/cond_models/sonata//drift_boundary_tbb/wiener_drift_boundary_tbb_model-20240528203622.csv, ../plgrid_results/cond_models/sonata//drift_boundary_tbb/wiener_drift_boundary_tbb_model-20240529093423.csv\n",
      "\n",
      "Checking sampler transitions treedepth.\n",
      "964 of 8000 (12.05%) transitions hit the maximum treedepth limit of 10, or 2^10 leapfrog steps.\n",
      "Trajectories that are prematurely terminated due to this limit will result in slow exploration.\n",
      "For optimal performance, increase this limit.\n",
      "\n",
      "Checking sampler transitions for divergences.\n",
      "93 of 8000 (1.16%) transitions ended with a divergence.\n",
      "These divergent transitions indicate that HMC is not fully able to explore the posterior distribution.\n",
      "Try increasing adapt delta closer to 1.\n",
      "If this doesn't remove all divergences, try to reparameterize the model.\n",
      "\n",
      "Checking E-BFMI - sampler transitions HMC potential energy.\n",
      "The E-BFMI, 0.14, is below the nominal threshold of 0.30 which suggests that HMC may have trouble exploring the target distribution.\n",
      "If possible, try to reparameterize the model.\n",
      "\n",
      "Effective sample size satisfactory.\n",
      "\n",
      "The following parameters had split R-hat greater than 1.05:\n",
      "  delta_ne_sd\n",
      "Such high values indicate incomplete mixing and biased estimation.\n",
      "You should consider regularizating your model with additional prior information or a more effective parameterization.\n",
      "\n",
      "Processing complete.\n",
      "\n"
     ]
    }
   ],
   "source": [
    "print(fit.diagnose())"
   ]
  },
  {
   "cell_type": "markdown",
   "id": "a52b14f6-d368-4549-99c3-65cbd0b4da22",
   "metadata": {},
   "source": [
    "## Results summary"
   ]
  },
  {
   "cell_type": "markdown",
   "id": "860ac08a-99a5-4c82-ab61-3a2cfdab26d7",
   "metadata": {},
   "source": [
    "### Save draws"
   ]
  },
  {
   "cell_type": "code",
   "execution_count": 940,
   "id": "a935cdb2-b287-41e4-a017-683a2833c3ad",
   "metadata": {},
   "outputs": [],
   "source": [
    "# fit_df = fit.draws_pd()\n",
    "# fit_df.to_csv(f'{path}/{model}/results/{model}_samples.csv')"
   ]
  },
  {
   "cell_type": "markdown",
   "id": "d5b67982-af34-480c-9636-f6d235a6621c",
   "metadata": {},
   "source": [
    "### Create and save the summary\n",
    "\n",
    "mean, stdv, percentiles, n_effects, r_hats, bayes factors"
   ]
  },
  {
   "cell_type": "code",
   "execution_count": 959,
   "id": "16b6e69b-c583-42de-a3c8-173ca26af1e4",
   "metadata": {
    "collapsed": false,
    "jupyter": {
     "outputs_hidden": false
    }
   },
   "outputs": [],
   "source": [
    "def calculate_bayes_factor_participant_level(\n",
    "        fit_df, \n",
    "        parameters_list, \n",
    "        prior_distribution, \n",
    "        hierarchical=False\n",
    "):\n",
    "    prior_kde_0 = calculate_hierarchical_prior_kde(prior_distribution, N=10000)(0)\n",
    "    \n",
    "    participants_bf_01 = []\n",
    "\n",
    "    for participants_parameter in parameters_list:\n",
    "        participant_bf_01 = calculate_bayes_factor(fit_df, participants_parameter, prior_kde_0)\n",
    "        participants_bf_01.append(participant_bf_01)\n",
    "\n",
    "    return np.array(participants_bf_01).flatten()"
   ]
  },
  {
   "cell_type": "code",
   "execution_count": 960,
   "id": "91a46baf-1f66-471b-8b91-eed3f6631b8f",
   "metadata": {
    "collapsed": false,
    "jupyter": {
     "outputs_hidden": false
    }
   },
   "outputs": [],
   "source": [
    "def calculate_hierarchical_prior_kde(hyper_prior_distributions, N = 10000):\n",
    "    if isinstance(hyper_prior_distributions, list):\n",
    "        print('list')\n",
    "        prior_samples = []\n",
    "        for hyper_prior in hyper_prior_distributions:\n",
    "            mean_hyper_prior = hyper_prior['mean']\n",
    "            sd_hyper_prior = hyper_prior['sd']\n",
    "\n",
    "            mean_samples = np.random.normal(loc=mean_hyper_prior['loc'], scale=mean_hyper_prior['scale'], size=(N,))\n",
    "            sd_samples = np.random.gamma(shape = sd_hyper_prior['shape'], scale=sd_hyper_prior['scale'], size=(N,))\n",
    "\n",
    "            for i in range(0,N):\n",
    "                prior_sample = np.random.normal(loc=mean_samples[i], scale=sd_samples[i], size=None)\n",
    "                prior_samples.append(prior_sample)\n",
    "        prior_samples = np.array(prior_samples)\n",
    "                \n",
    "    else:\n",
    "        mean_hyper_prior = hyper_prior_distributions['mean']\n",
    "        sd_hyper_prior = hyper_prior_distributions['sd']\n",
    "        \n",
    "        mean_samples = np.random.normal(loc=mean_hyper_prior['loc'], scale=mean_hyper_prior['scale'], size=(N,))\n",
    "        sd_samples = np.random.gamma(shape = sd_hyper_prior['shape'], scale=sd_hyper_prior['scale'], size=(N,))\n",
    "        \n",
    "        prior_samples = []\n",
    "        for i in range(0,N):\n",
    "            prior_sample = np.random.normal(loc=mean_samples[i], scale=sd_samples[i], size=None)\n",
    "            prior_samples.append(prior_sample)\n",
    "        prior_samples = np.array(prior_samples)\n",
    "        \n",
    "        # Prior density of hierarchical effect parameters\n",
    "        prior_density = stats.gaussian_kde(prior_samples)\n",
    "    \n",
    "    return prior_density"
   ]
  },
  {
   "cell_type": "code",
   "execution_count": 961,
   "id": "5d950969-0743-4ce3-8af3-d40c44caaf35",
   "metadata": {
    "collapsed": false,
    "jupyter": {
     "outputs_hidden": false
    }
   },
   "outputs": [],
   "source": [
    "def calculate_bayes_factor(fit_df, parameter, prior_kde):\n",
    "    parameter_samples = fit_df[parameter].to_numpy()\n",
    "\n",
    "    # Estimate density curves from samples\n",
    "    parameter_kde = stats.gaussian_kde(parameter_samples)\n",
    "\n",
    "    # Calculate Bayes Factors 01, evidence for the null hypothesis\n",
    "    bayes_factor_01 = parameter_kde(0) / prior_kde\n",
    "\n",
    "    return bayes_factor_01"
   ]
  },
  {
   "cell_type": "code",
   "execution_count": 962,
   "id": "d01859e6-bc70-45db-906a-82e6163e2829",
   "metadata": {},
   "outputs": [],
   "source": [
    "def get_summary_with_bayes_factor(fit, priors_dict, variables_to_track):\n",
    "    fit_df = fit.draws_pd()\n",
    "    bayes_factors = dict()\n",
    "    \n",
    "    for parameter_name in priors_dict.keys():\n",
    "        prior_kde, is_hierarchical = priors_dict[parameter_name]\n",
    "    \n",
    "        if is_hierarchical:\n",
    "            parameters_list = [variable for variable in variables_to_track if parameter_name in variable ]\n",
    "            \n",
    "            participants_bf_01 = calculate_bayes_factor_participant_level(\n",
    "                fit_df,\n",
    "                parameters_list=parameters_list,\n",
    "                prior_distribution = prior_kde,\n",
    "                hierarchical=True\n",
    "            )\n",
    "            bayes_factors_hierarchical = dict(zip(parameters_list, participants_bf_01))\n",
    "            bayes_factors.update(bayes_factors_hierarchical)\n",
    "            \n",
    "        else:\n",
    "            bf_01 = calculate_bayes_factor(\n",
    "                fit_df, \n",
    "                parameter=parameter_name,\n",
    "                prior_kde = prior_kde,\n",
    "            )\n",
    "            bayes_factors_population = dict(zip([parameter_name], bf_01))\n",
    "            bayes_factors.update(bayes_factors_population)\n",
    "        \n",
    "    summary_df = fit.summary(percentiles=(2, 98))\n",
    "    bayes_factors_df = pd.DataFrame.from_dict(bayes_factors, orient='index', columns=['Bayes_factor'])\n",
    "    result_df = pd.concat([summary_df, bayes_factors_df], axis=1)\n",
    "\n",
    "    return result_df"
   ]
  },
  {
   "cell_type": "markdown",
   "id": "e679e2e6-441e-4da9-a146-4a4972975e6f",
   "metadata": {},
   "source": [
    "Define priors"
   ]
  },
  {
   "cell_type": "code",
   "execution_count": 963,
   "id": "36e590de-ab0d-4ffc-8a26-63fdde8bda51",
   "metadata": {},
   "outputs": [],
   "source": [
    "# # columns: prior, is hierarchical || model = drift_boundary\n",
    "priors_dict = {\n",
    "    'participants_alpha_cond':[{\n",
    "        'mean': {'loc':0, \"scale\":1},\n",
    "        'sd': {'shape':1, \"scale\":1},\n",
    "    }, True],\n",
    "    'participants_alpha_ne':[{\n",
    "        'mean': {'loc':0, \"scale\":0.2},\n",
    "        'sd': {'shape':.3, \"scale\":1},\n",
    "    }, True],\n",
    "    # 'participants_alpha_ne_pre_acc':[{\n",
    "    #     'mean': {'loc':0, \"scale\":0.1},\n",
    "    #     'sd': {'shape':1, \"scale\":1},\n",
    "    # }, True],\n",
    "    'participants_delta_cond': [{\n",
    "        'mean': {'loc':0, \"scale\":2},\n",
    "        'sd': {'shape':1, \"scale\":1},\n",
    "    }, True],\n",
    "    'participants_delta_ne': [{\n",
    "        'mean': {'loc':0, \"scale\":.5},\n",
    "        'sd': {'shape':.3, \"scale\":1},\n",
    "    }, True],\n",
    "    # 'participants_delta_ne_pre_acc':[{\n",
    "    #     'mean': {'loc':0, \"scale\":0.5},\n",
    "    #     'sd': {'shape':1, \"scale\":1},\n",
    "    # }, True],\n",
    "    'alpha_cond': [stats.norm.pdf(0, loc=0, scale=1), False],\n",
    "    'alpha_ne': [stats.norm.pdf(0, loc=0, scale=0.2), False],\n",
    "    'delta_cond': [stats.norm.pdf(0, loc=0, scale=2), False],\n",
    "    'delta_ne': [stats.norm.pdf(0, loc=0, scale=.5), False],\n",
    "    \n",
    "    'alpha_pre_acc': [stats.norm.pdf(0, loc=0, scale=0.2), False],\n",
    "    'alpha_ne_pre_acc': [stats.norm.pdf(0, loc=0, scale=0.2), False],\n",
    "    'alpha_ne_cond': [stats.norm.pdf(0, loc=0, scale=0.2), False],\n",
    "    'alpha_pre_acc_cond':[stats.norm.pdf(0, loc=0, scale=0.2), False],\n",
    "    'alpha_ne_pre_acc_cond':[stats.norm.pdf(0, loc=0, scale=0.1), False],\n",
    "   \n",
    "    'delta_pre_acc': [stats.norm.pdf(0, loc=0, scale=.5), False],\n",
    "    'delta_ne_pre_acc': [stats.norm.pdf(0, loc=0, scale=.5), False],\n",
    "    'delta_ne_cond': [stats.norm.pdf(0, loc=0, scale=.5), False],\n",
    "    'delta_pre_acc_cond':[stats.norm.pdf(0, loc=0, scale=.5), False],\n",
    "    'delta_ne_pre_acc_cond':[stats.norm.pdf(0, loc=0, scale=.5), False],\n",
    "}"
   ]
  },
  {
   "cell_type": "code",
   "execution_count": null,
   "id": "e81eac27-976e-437a-be7b-2f3f25284a7b",
   "metadata": {},
   "outputs": [],
   "source": [
    "model_variables = list(fit.method_variables().keys()) + ['chain__', 'iter__', 'draw__']\n",
    "variables_to_track = fit.draws_pd().columns.to_numpy()\n",
    "variables_to_track = [variable for variable in variables_to_track if ('log_lik' not in variable and variable not in model_variables)]\n",
    "\n",
    "try:\n",
    "    summary = get_summary_with_bayes_factor(fit, priors_dict, variables_to_track)\n",
    "    summary.to_csv(f'{path}/{model}/results/{model}_summary_with_bf_plgrid_test.csv')\n",
    "except Exception as e:\n",
    "    print(e)\n",
    "    print('Saving summary without bayes factors')\n",
    "    summary = fit.summary()\n",
    "    summary.to_csv(f'{path}/{model}/results/{model}_summary.csv')"
   ]
  },
  {
   "cell_type": "markdown",
   "id": "d9931abf-87f9-4d72-b577-b762776e5db2",
   "metadata": {
    "collapsed": false,
    "jupyter": {
     "outputs_hidden": false
    }
   },
   "source": [
    "### Calculate WAIC"
   ]
  },
  {
   "cell_type": "code",
   "execution_count": null,
   "id": "42698aa0-242c-4921-af39-04974f3ef4af",
   "metadata": {},
   "outputs": [],
   "source": [
    "def waic(log_likelihood):\n",
    "    \"\"\"Calculates the Watanabe-Akaike information criteria.\n",
    "    Calculates pWAIC1 and pWAIC2\n",
    "    according to http://www.stat.columbia.edu/~gelman/research/published/waic_understand3.pdf\n",
    "    Parameters\n",
    "    ----------\n",
    "    pointwise : bool, default to False\n",
    "        By default, gives the averaged waic.\n",
    "        Set to True is you want additional waic per observation.\n",
    "    Returns\n",
    "    -------\n",
    "    out: dict\n",
    "        Dictionary containing lppd (log pointwise predictive density),\n",
    "        p_waic, waic, waic_se (standard error of the waic), and\n",
    "        pointwise_waic (when `pointwise` is True).\n",
    "    \"\"\"\n",
    "\n",
    "    N = log_likelihood.shape[1]\n",
    "    likelihood = np.exp(log_likelihood)\n",
    "\n",
    "    mean_l = np.mean(likelihood, axis=0) # N observations\n",
    "\n",
    "    pointwise_lppd = np.log(mean_l)\n",
    "    lppd = np.sum(pointwise_lppd)\n",
    "\n",
    "    pointwise_var_l = np.var(log_likelihood, axis=0) # N observations\n",
    "    var_l = np.sum(pointwise_var_l)\n",
    "\n",
    "    pointwise_waic = - 2*pointwise_lppd +  2*pointwise_var_l\n",
    "    waic = -2*lppd + 2*var_l\n",
    "    waic_se = np.sqrt(N * np.var(pointwise_waic))\n",
    "\n",
    "    model_statistics = {'lppd':lppd,\n",
    "           'p_waic':var_l,\n",
    "           'waic':waic,\n",
    "           'waic_se':waic_se}\n",
    "    return model_statistics"
   ]
  },
  {
   "cell_type": "code",
   "execution_count": null,
   "id": "1842480c-5338-4492-b93e-b0fe5e744224",
   "metadata": {},
   "outputs": [],
   "source": [
    "fit_df = fit.draws_pd()\n",
    "\n",
    "log_likelihood_columns = [col for col in fit_df.columns if 'log_lik' in col]\n",
    "log_likelihood = fit_df[log_likelihood_columns].to_numpy()\n",
    "\n",
    "model_statistics = waic(log_likelihood)\n",
    "model_statistics_df = pd.DataFrame.from_dict(model_statistics, orient='index', columns=['value'])\n",
    "\n",
    "display(model_statistics_df)\n",
    "\n",
    "model_statistics_df.to_csv(f'{path}/{model}/results/{model}_model_statistics.csv')"
   ]
  },
  {
   "cell_type": "markdown",
   "id": "186aac9f-d3ef-41a1-a16d-657f119cfbfe",
   "metadata": {},
   "source": [
    "## Plots"
   ]
  },
  {
   "cell_type": "code",
   "execution_count": null,
   "id": "59ebc313-df22-4654-8cf2-ad0541f8f39a",
   "metadata": {},
   "outputs": [],
   "source": [
    "model_variables = list(fit.method_variables().keys()) + ['chain__', 'iter__', 'draw__']\n",
    "variables_to_track = fit.draws_pd().columns.to_numpy()\n",
    "variables_to_track = [variable for variable in variables_to_track if ('log_lik' not in variable and variable not in model_variables)]\n",
    "base_variables_to_track = [variable for variable in variables_to_track if 'participant' not in variable] + ['chain__', 'iter__'] \n",
    "\n",
    "fit_df = fit.draws_pd()\n",
    "fit_df_params = fit_df[base_variables_to_track]\n",
    "melted_fit_df_params = pd.melt(fit_df_params, id_vars=['chain__', 'iter__'], var_name='parameter', value_name='value')"
   ]
  },
  {
   "cell_type": "markdown",
   "id": "97a6422c-993b-40c2-93bf-4b1cd91e23bd",
   "metadata": {},
   "source": [
    "### Draw chains"
   ]
  },
  {
   "cell_type": "code",
   "execution_count": null,
   "id": "a1c06fe2-f095-40a8-948f-d7f775a3c696",
   "metadata": {},
   "outputs": [],
   "source": [
    "g = sns.relplot(\n",
    "    data=melted_fit_df_params,\n",
    "    x=\"iter__\", \n",
    "    y=\"value\",\n",
    "    hue=\"chain__\", \n",
    "    col=\"parameter\",\n",
    "    kind=\"line\",\n",
    "    col_wrap=4,\n",
    "    height=5, \n",
    "    aspect=1.1, \n",
    "    facet_kws=dict(sharex=True, sharey=False),\n",
    "    palette='colorblind'\n",
    ")\n",
    "\n",
    "fig = plt.gcf()\n",
    "\n",
    "plt.savefig(f'{path}/{model}/results/{model}_chains.png', bbox_inches='tight')"
   ]
  },
  {
   "cell_type": "markdown",
   "id": "1fe41eb7-6b5b-47a3-8221-fc517decaecb",
   "metadata": {},
   "source": [
    "### Draw base parameters distributions"
   ]
  },
  {
   "cell_type": "code",
   "execution_count": null,
   "id": "eee66652-5aac-48c2-b506-80aeea34259c",
   "metadata": {},
   "outputs": [],
   "source": [
    "# # Function to plot KDE with CI\n",
    "# def plot_kde_with_colored_ci(data, **kwargs):\n",
    "#     kde = sns.kdeplot(data=data['value'], **kwargs)\n",
    "\n",
    "#     # Extract the KDE line data\n",
    "#     x, y = kde.get_lines()[0].get_data()\n",
    "#     # kde.remove()\n",
    "\n",
    "#     # Calculate the 5th and 95th percentiles\n",
    "#     lower = np.percentile(data['value'], 5)\n",
    "#     upper = np.percentile(data['value'], 95)\n",
    "\n",
    "#     # Plot the entire KDE\n",
    "#     plt.plot(x, y, color='b')\n",
    "\n",
    "#     # Fill the area between the 5th and 95th percentiles\n",
    "#     plt.fill_between(x, y, where=(x >= lower) & (x <= upper), color='g', alpha=0.5)\n",
    "\n",
    "#     # Draw vertical lines for percentiles and mean\n",
    "#     mean = np.mean(data['value'])\n",
    "#     # plt.axvline(lower, color='k', linestyle='--')\n",
    "#     # plt.axvline(upper, color='k', linestyle='--')\n",
    "#     plt.axvline(mean, color='r', linestyle='-')\n",
    "\n",
    "# # Create the FacetGrid\n",
    "# g = sns.FacetGrid(melted_fit_df_params, col=\"parameter\", col_wrap=4, sharey=False, sharex=False,)\n",
    "\n",
    "# # Map the plot_kde_with_colored_ci function to each facet\n",
    "# g.map_dataframe(plot_kde_with_colored_ci)"
   ]
  },
  {
   "cell_type": "code",
   "execution_count": null,
   "id": "8107868b-8cce-4be4-85be-e029e8594b34",
   "metadata": {},
   "outputs": [],
   "source": [
    "def plot_violin_with_colored_ci(data, **kwargs):\n",
    "    subset = data\n",
    "    lower = np.percentile(subset['value'], 5)\n",
    "    upper = np.percentile(subset['value'], 95)\n",
    "    mean = np.mean(subset['value'])\n",
    "    \n",
    "    violin = sns.violinplot(x='value', data=data, fill=False, inner='quart', **kwargs)\n",
    "    path_data = violin.get_children()[0].get_paths()\n",
    "    x = path_data[0].vertices[:, 0]\n",
    "    y = path_data[0].vertices[:, 1]    \n",
    "\n",
    "    plt.fill_between(x, y, where=(x >= lower) & (x <= upper), color='blue', alpha=0.5)\n",
    "    \n",
    "    for l in violin.lines:\n",
    "        l.set_linestyle('--')\n",
    "        l.set_linewidth(1.5)\n",
    "        l.set_color('black')\n",
    "    \n",
    "    plt.axvline(mean, color='r', linestyle='-')\n",
    "\n",
    "g = sns.FacetGrid(\n",
    "    melted_fit_df_params, \n",
    "    col=\"parameter\", \n",
    "    sharex=False, \n",
    "    sharey=False, \n",
    "    col_wrap=4,\n",
    "    palette='colorblind',\n",
    "    aspect=2,\n",
    "    height=2,\n",
    ")\n",
    "g.set_titles(col_template=\"{col_name}\")\n",
    "g.map_dataframe(plot_violin_with_colored_ci)\n",
    "g.set_ylabels(\"\")\n",
    "g.set_xlabels(\"\")\n",
    "\n",
    "g.fig.tight_layout()\n",
    "\n",
    "fig = plt.gcf()\n",
    "plt.savefig(f'{path}/{model}/results/{model}_distributions.png', bbox_inches='tight')"
   ]
  },
  {
   "cell_type": "markdown",
   "id": "3b597a29-8af1-4513-ad39-58c656eee23c",
   "metadata": {},
   "source": [
    "### Pair-plots of base parameters\n",
    "To check cross-parameter correlations"
   ]
  },
  {
   "cell_type": "code",
   "execution_count": null,
   "id": "2ec46741-a8c0-4f1a-8d87-92fed451ef30",
   "metadata": {},
   "outputs": [],
   "source": [
    "base_variables_to_track = [variable for variable in variables_to_track if 'participant' not in variable]\n",
    "fit_df = fit.draws_pd()\n",
    "fit_df_params = fit_df[base_variables_to_track]\n",
    "\n",
    "g = sns.PairGrid(fit_df_params)\n",
    "g.map_upper(sns.histplot)\n",
    "g.map_lower(sns.kdeplot, fill=True)\n",
    "g.map_diag(sns.histplot, kde=True)\n",
    "\n",
    "g.fig.tight_layout()\n",
    "fig = plt.gcf()\n",
    "plt.savefig(f'{path}/{model}/results/{model}_pair_plots.png', bbox_inches='tight')"
   ]
  },
  {
   "cell_type": "markdown",
   "id": "bafc5a12-d636-4789-8068-c2b8caeaf6a6",
   "metadata": {},
   "source": [
    "### Bayes factors distributions"
   ]
  },
  {
   "cell_type": "code",
   "execution_count": null,
   "id": "432e5b4e-b686-4ffb-a7cc-cad07eb917b6",
   "metadata": {},
   "outputs": [],
   "source": [
    "summary_copy = summary.copy()\n",
    "summary_copy['parameter_name'] = summary_copy.index.str.extract(r'([a-zA-Z_]+(?:_[a-zA-Z]+)*)', expand=False)\n",
    "summary_copy.groupby(['parameter_name']).agg(['min', 'max', 'median']).to_csv(f'{path}/{model}/results/{model}_parameters_aggegation.csv')\n",
    "\n",
    "summary_copy_random_effects = summary_copy[(~summary_copy['Bayes_factor'].isna()) & (summary_copy['parameter_name'].str.contains('participants', case=False, na=False))]\n",
    "summary_copy_random_effects.reset_index(inplace=True)\n",
    "summary_copy_random_effects = summary_copy_random_effects.sort_values(by=['parameter_name', 'Bayes_factor'])"
   ]
  },
  {
   "cell_type": "code",
   "execution_count": null,
   "id": "0c7ff152-d011-4bce-b315-586f86eef1e5",
   "metadata": {},
   "outputs": [],
   "source": [
    "sns.set_palette(\"colorblind\")\n",
    "\n",
    "g = sns.FacetGrid(\n",
    "    summary_copy_random_effects, \n",
    "    col='parameter_name', \n",
    "    col_wrap=3, \n",
    "    sharey=False,\n",
    "    sharex=False,\n",
    "    aspect=1,\n",
    "    height=6,\n",
    ")\n",
    "\n",
    "g.map(\n",
    "    sns.pointplot, \n",
    "    'Bayes_factor', \n",
    "    'index', \n",
    ")\n",
    "\n",
    "g.set_yticklabels([])\n",
    "g.set_axis_labels(\"Bayes factor\", \"ID\")\n",
    "g.set_titles(col_template=\"{col_name}\")\n",
    "\n",
    "# Add vertical lines at x-values 0.1 and 10\n",
    "def add_vertical_lines(x, color, linestyle):\n",
    "    plt.axvline(x=x, color=color, linestyle=linestyle)\n",
    "    \n",
    "g.map(add_vertical_lines, color='g', linestyle='--', x=0.5)\n",
    "g.map(add_vertical_lines, color='black', linestyle='--', x=1)\n",
    "g.map(add_vertical_lines, color='r', linestyle='--', x=10)\n",
    "g.map(add_vertical_lines, color='r', linestyle='--', x=5)\n",
    "\n",
    "\n",
    "g.fig.tight_layout()\n",
    "\n",
    "fig = plt.gcf()\n",
    "plt.savefig(f'{path}/{model}/results/{model}_random_effects_bfs.png', bbox_inches='tight')"
   ]
  },
  {
   "cell_type": "markdown",
   "id": "6f8cc39c-4e11-49f7-9213-f11d153a9a72",
   "metadata": {},
   "source": [
    "----"
   ]
  },
  {
   "cell_type": "code",
   "execution_count": null,
   "id": "4b6a12e2-ffa4-45e8-8619-3a5dfb7d7de7",
   "metadata": {},
   "outputs": [],
   "source": []
  },
  {
   "cell_type": "code",
   "execution_count": null,
   "id": "8b625373-2d94-4ec3-9dea-6c07a9ba2627",
   "metadata": {},
   "outputs": [],
   "source": []
  },
  {
   "cell_type": "markdown",
   "id": "c417b835-d428-4fc1-8e36-a4e9b7c5f686",
   "metadata": {},
   "source": [
    "### Test priors"
   ]
  },
  {
   "cell_type": "code",
   "execution_count": 907,
   "id": "94a6eead-36aa-45dc-808d-708d2ddb01d0",
   "metadata": {},
   "outputs": [],
   "source": [
    "priors_dict = {\n",
    "    'participants_delta_ne':[{\n",
    "        'mean': {'loc':0, \"scale\":0.5},\n",
    "        'sd': {'shape':0.3, \"scale\":1},\n",
    "    }, True],\n",
    "    'participants_alpha_ne_pre_acc':[{\n",
    "        'mean': {'loc':0, \"scale\":0.1},\n",
    "        'sd': {'shape':1, \"scale\":1},\n",
    "    }, True],\n",
    "    'participants_alpha_ern':[\n",
    "        [\n",
    "            {\n",
    "                'mean': {'loc':0, \"scale\":0.5},\n",
    "                'sd': {'shape':1, \"scale\":1},\n",
    "            },\n",
    "            {\n",
    "                'mean': {'loc':0, \"scale\":0.1},\n",
    "                'sd': {'shape':1, \"scale\":1},\n",
    "            },\n",
    "        ], \n",
    "        True\n",
    "    ],\n",
    "}"
   ]
  },
  {
   "cell_type": "code",
   "execution_count": 908,
   "id": "80c97db5-7df1-4d11-b609-39f33123f144",
   "metadata": {},
   "outputs": [],
   "source": [
    "hyper_prior_distributions = priors_dict['participants_delta_ne'][0]\n",
    "N=10000"
   ]
  },
  {
   "cell_type": "code",
   "execution_count": 909,
   "id": "dadbe4cb-8f29-4a97-a002-40fecef59043",
   "metadata": {},
   "outputs": [],
   "source": [
    "mean_hyper_prior = hyper_prior_distributions['mean']\n",
    "sd_hyper_prior = hyper_prior_distributions['sd']\n",
    "\n",
    "mean_samples = np.random.normal(loc=mean_hyper_prior['loc'], scale=mean_hyper_prior['scale'], size=(N,))\n",
    "sd_samples = np.random.gamma(shape = sd_hyper_prior['shape'], scale=sd_hyper_prior['scale'], size=(N,))\n",
    "\n",
    "prior_samples = []\n",
    "\n",
    "for i in range(0,N):\n",
    "    prior_sample = np.random.normal(loc=mean_samples[i], scale=sd_samples[i], size=None)\n",
    "    prior_samples.append(prior_sample)\n",
    "prior_samples = np.array(prior_samples)\n",
    "\n",
    "x_vals = np.linspace(-1, 1, 1000)\n",
    "\n",
    "# Prior density of hierarchical effect parameters\n",
    "prior_density = stats.gaussian_kde(prior_samples)\n",
    "\n",
    "parameter_kde = stats.gaussian_kde(fit.draws_pd()['participants_delta_ne[209]'])"
   ]
  },
  {
   "cell_type": "code",
   "execution_count": 917,
   "id": "0365a45b-1b5c-41dd-88e4-a8c2f1246389",
   "metadata": {},
   "outputs": [
    {
     "data": {
      "text/plain": [
       "[<matplotlib.lines.Line2D at 0x7337506689d0>]"
      ]
     },
     "execution_count": 917,
     "metadata": {},
     "output_type": "execute_result"
    },
    {
     "data": {
      "image/png": "[encoded data removed]",
      "text/plain": [
       "<Figure size 800x600 with 1 Axes>"
      ]
     },
     "metadata": {},
     "output_type": "display_data"
    }
   ],
   "source": [
    "# Generate a range of values over which to evaluate the density\n",
    "\n",
    "# Evaluate the density\n",
    "y_vals = prior_density(x_vals)\n",
    "y_sample_vals = parameter_kde(x_vals)\n",
    "y_sample2_values = stats.norm.pdf(x_vals, loc=0, scale=0.5)\n",
    "\n",
    "\n",
    "# Plot the density using matplotlib\n",
    "plt.figure(figsize=(8, 6))\n",
    "plt.plot(x_vals, y_vals, label='Gaussian KDE')\n",
    "plt.plot(x_vals, y_sample_vals, label='Gaussian KDE', color='r')\n",
    "plt.plot(x_vals, y_sample2_values, label='Gaussian KDE')"
   ]
  },
  {
   "cell_type": "code",
   "execution_count": 916,
   "id": "6ebcaf88-5378-438c-bfa8-d33238478861",
   "metadata": {},
   "outputs": [
    {
     "data": {
      "text/plain": [
       "[<matplotlib.lines.Line2D at 0x733752383b20>]"
      ]
     },
     "execution_count": 916,
     "metadata": {},
     "output_type": "execute_result"
    },
    {
     "data": {
      "image/png": "[encoded data removed]",
      "text/plain": [
       "<Figure size 800x600 with 1 Axes>"
      ]
     },
     "metadata": {},
     "output_type": "display_data"
    }
   ],
   "source": [
    "# Generate a range of values over which to evaluate the density\n",
    "x_zoom = np.linspace(-0.05, 0.05, 1000)\n",
    "\n",
    "y_vals = prior_density(x_zoom)\n",
    "y_sample_vals = parameter_kde(x_zoom)\n",
    "y_sample2_values = stats.norm.pdf(x_zoom, loc=0, scale=0.5)\n",
    "\n",
    "# Plot the density using matplotlib\n",
    "plt.figure(figsize=(8, 6))\n",
    "plt.plot(x_zoom, y_vals, label='Gaussian KDE')\n",
    "plt.plot(x_zoom, y_sample_vals, label='Gaussian KDE', color='r')\n",
    "plt.plot(x_zoom, y_sample2_values, label='Gaussian KDE')"
   ]
  },
  {
   "cell_type": "code",
   "execution_count": 913,
   "id": "4cf9db91-7541-4cda-a125-eb669fc021a4",
   "metadata": {},
   "outputs": [
    {
     "data": {
      "text/plain": [
       "<Axes: ylabel='Count'>"
      ]
     },
     "execution_count": 913,
     "metadata": {},
     "output_type": "execute_result"
    },
    {
     "data": {
      "image/png": "[encoded data removed]",
      "text/plain": [
       "<Figure size 640x480 with 1 Axes>"
      ]
     },
     "metadata": {},
     "output_type": "display_data"
    }
   ],
   "source": [
    "sns.histplot(sd_samples)"
   ]
  },
  {
   "cell_type": "code",
   "execution_count": 914,
   "id": "ffc5e688-69e3-4f14-a289-cf32dd4cccca",
   "metadata": {},
   "outputs": [
    {
     "name": "stdout",
     "output_type": "stream",
     "text": [
      "[1.29372555]\n",
      "[0.4519894]\n"
     ]
    }
   ],
   "source": [
    "# Calculate Bayes Factors 01, evidence for the null hypothesis\n",
    "bayes_factor_01 = parameter_kde(0) / prior_density(0)\n",
    "print(bayes_factor_01)\n",
    "\n",
    "bayes_factor_01 = parameter_kde(0) / stats.norm.pdf(0, loc=0, scale=0.2)\n",
    "print(bayes_factor_01)"
   ]
  },
  {
   "cell_type": "code",
   "execution_count": 915,
   "id": "93d5581a-e284-4a37-acd6-276ec059b36e",
   "metadata": {},
   "outputs": [
    {
     "data": {
      "text/plain": [
       "<Axes: xlabel='participants_delta_ne[209]', ylabel='Count'>"
      ]
     },
     "execution_count": 915,
     "metadata": {},
     "output_type": "execute_result"
    },
    {
     "data": {
      "image/png": "[encoded data removed]",
      "text/plain": [
       "<Figure size 640x480 with 1 Axes>"
      ]
     },
     "metadata": {},
     "output_type": "display_data"
    }
   ],
   "source": [
    "sns.histplot(fit.draws_pd()['participants_delta_ne[209]'])\n",
    "\n",
    "# up to 10 - it is\n",
    "# up to 25 - maybe\n",
    "# above 25 - there is no"
   ]
  },
  {
   "cell_type": "code",
   "execution_count": null,
   "id": "ed33e34f-5a53-46a2-83d4-204abcee8cba",
   "metadata": {},
   "outputs": [],
   "source": []
  }
 ],
 "metadata": {
  "kernelspec": {
   "display_name": "cmdstan_py",
   "language": "python",
   "name": "cmdstan_py"
  },
  "language_info": {
   "codemirror_mode": {
    "name": "ipython",
    "version": 3
   },
   "file_extension": ".py",
   "mimetype": "text/x-python",
   "name": "python",
   "nbconvert_exporter": "python",
   "pygments_lexer": "ipython3",
   "version": "3.9.19"
  }
 },
 "nbformat": 4,
 "nbformat_minor": 5
}
